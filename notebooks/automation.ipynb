{
 "cells": [
  {
   "cell_type": "code",
   "execution_count": 1,
   "metadata": {},
   "outputs": [],
   "source": [
    "# Importing useful libraries\n",
    "import pandas as pd\n",
    "import xlrd\n",
    "import sys\n",
    "sys.path.append('..')\n",
    "import warnings\n",
    "warnings.filterwarnings('ignore')\n",
    "import openpyxl # For excel related tasks\n",
    "from scripts import utils\n",
    "import matplotlib.pyplot as plt\n",
    "import seaborn as sns\n",
    "\n",
    "# Enabling to show all the columns and rows\n",
    "pd.pandas.set_option(\n",
    "    'display.max_columns',\n",
    "    None\n",
    ")"
   ]
  },
  {
   "cell_type": "code",
   "execution_count": 2,
   "metadata": {},
   "outputs": [],
   "source": [
    "# Getting the month dictionary\n",
    "\n",
    "months_dict = {\n",
    "    'Jan': 'January',\n",
    "    'Feb': 'February',\n",
    "    'Mar': 'March',\n",
    "    'Apr': 'April',\n",
    "    'May': 'May',\n",
    "    'Jun': 'June',\n",
    "    'Jul': 'July',\n",
    "    'Aug': 'August',\n",
    "    'Sep': 'September',\n",
    "    'Oct': 'October',\n",
    "    'Nov': 'November',\n",
    "    'Dec': 'December'\n",
    "}\n",
    "\n",
    "months_dict_2 = {\n",
    "    \"01\": \"January\",\n",
    "    \"02\": \"February\",\n",
    "    \"03\": \"March\",\n",
    "    \"04\": \"April\",\n",
    "    \"05\": \"May\",\n",
    "    \"06\": \"June\",\n",
    "    \"07\": \"July\",\n",
    "    \"08\": \"August\",\n",
    "    \"09\": \"September\",\n",
    "    \"10\": \"October\",\n",
    "    \"11\": \"November\",\n",
    "    \"12\": \"December\"\n",
    "}\n",
    "\n"
   ]
  },
  {
   "cell_type": "code",
   "execution_count": 3,
   "metadata": {},
   "outputs": [],
   "source": [
    "# Reading the comprehensive report data to get the month\n",
    "\n",
    "xls = pd.read_excel('../data/february_revenue_data.xlsx',sheet_name=None)\n",
    "\n",
    "feb_data_frames = {}\n",
    "\n",
    "for sheet_name,sheet_df in xls.items():\n",
    "    feb_data_frames[sheet_name] = sheet_df\n",
    "\n",
    "\n",
    "xls = pd.read_excel('../data/january_revenue_data.xlsx',sheet_name=None)\n",
    "\n",
    "jan_data_frames = {}\n",
    "\n",
    "for sheet_name,sheet_df in xls.items():\n",
    "    jan_data_frames[sheet_name] = sheet_df"
   ]
  },
  {
   "cell_type": "code",
   "execution_count": 4,
   "metadata": {},
   "outputs": [
    {
     "name": "stdout",
     "output_type": "stream",
     "text": [
      "January\n"
     ]
    }
   ],
   "source": [
    "# Getting the month name from the comprehensive report data\n",
    "\n",
    "month_names = [date.split(' ')[0] for date in jan_data_frames.keys()]\n",
    "\n",
    "print(months_dict[list(set(month_names))[0]])"
   ]
  },
  {
   "cell_type": "code",
   "execution_count": 5,
   "metadata": {},
   "outputs": [],
   "source": [
    "# # Getting the month name from the clik vs reg data\n",
    "# click_df = utils.read_excel_file('../data/ClicksVsRegistration.xls')\n",
    "# useful_columns = [\n",
    "#     'Date', 'Affiliate Name', 'Affiliate ID', 'Revenue Tracker ID',\n",
    "#     'User Registration', 'Cake Clicks (All Clicks)'\n",
    "# ]\n",
    "# click_df = click_df[useful_columns]\n",
    "# click_df.dropna(inplace=True)\n",
    "# months = [date.split('-')[1] for date in click_df['Date'].values]\n",
    "# print(months_dict_2[list(set(months))[0]])"
   ]
  },
  {
   "cell_type": "code",
   "execution_count": 6,
   "metadata": {},
   "outputs": [],
   "source": [
    "# Getting the affiliate names from the comprehensive reports\n",
    "\n",
    "feb_campaigns = []\n",
    "\n",
    "cut_off_1 = feb_data_frames['Feb 1'][feb_data_frames['Feb 1']['Campaign'] == 'Publisher Name'].index[0]\n",
    "temp_df = feb_data_frames['Feb 1'].iloc[cut_off_1:]\n",
    "cut_off_2 = temp_df[temp_df['Campaign'].isna() == True].index[0]\n",
    "campaigns = list(set(list(feb_data_frames['Feb 1'].iloc[cut_off_1:cut_off_2]['Campaign'].values)))\n",
    "campaigns.remove('Publisher Name')\n",
    "\n",
    "feb_campaigns += campaigns\n",
    "\n",
    "jan_campaigns = []\n",
    "\n",
    "cut_off_1 = jan_data_frames['Jan 01'][jan_data_frames['Jan 01']['Campaign'] == 'Publisher Name'].index[0]\n",
    "temp_df = jan_data_frames['Jan 01'].iloc[cut_off_1:]\n",
    "cut_off_2 = temp_df[temp_df['Campaign'].isna() == True].index[0]\n",
    "campaigns = list(set(list(jan_data_frames['Jan 01'].iloc[cut_off_1:cut_off_2]['Campaign'].values)))\n",
    "campaigns.remove('Publisher Name')\n",
    "\n",
    "jan_campaigns += campaigns"
   ]
  },
  {
   "cell_type": "code",
   "execution_count": 7,
   "metadata": {},
   "outputs": [],
   "source": [
    "jan_final_dfs = utils.generate_report('../data/january_revenue_data.xlsx')\n",
    "feb_final_dfs = utils.generate_report('../data/february_revenue_data.xlsx')\n",
    "\n",
    "# Getting the monthly data for February\n",
    "feb_dfs = {}\n",
    "for sheet_name,sheet_df in feb_final_dfs.items():\n",
    "    feb_dfs[sheet_name] = sheet_df\n",
    "\n",
    "# RGetting the monthly data for January\n",
    "jan_dfs = {}\n",
    "for sheet_name,sheet_df in jan_final_dfs.items():\n",
    "    jan_dfs[sheet_name] = sheet_df\n",
    "\n",
    "# Let us check only the all in box data\n",
    "needed_affiliate = 'All Inbox(Jason Jacobs)'\n",
    "feb_dfs[needed_affiliate]\n",
    "\n",
    "# Let us get the comparision dfs\n",
    "final_df = pd.concat([jan_dfs[needed_affiliate],feb_dfs[needed_affiliate]],axis=0)\n",
    "final_df.drop(\n",
    "    columns = 'Date',\n",
    "    inplace = True\n",
    ")\n",
    "final_df.dropna(inplace = True)\n",
    "final_df.sort_values('Publisher',inplace=True)\n",
    "final_df.to_excel('report.xlsx',index=False)\n",
    "\n",
    "excel_path = 'report.xlsx'\n",
    "# Load the Excel file with openpyxl\n",
    "workbook = openpyxl.load_workbook(excel_path)\n",
    "\n",
    "# Apply formatting to all sheets\n",
    "for sheet_name in workbook.sheetnames:\n",
    "    sheet = workbook[sheet_name]\n",
    "    utils.format_sheet(sheet)\n",
    "\n",
    "workbook.save(excel_path)\n"
   ]
  },
  {
   "cell_type": "code",
   "execution_count": null,
   "metadata": {},
   "outputs": [],
   "source": []
  }
 ],
 "metadata": {
  "kernelspec": {
   "display_name": "engage_iq_new",
   "language": "python",
   "name": "python3"
  },
  "language_info": {
   "codemirror_mode": {
    "name": "ipython",
    "version": 3
   },
   "file_extension": ".py",
   "mimetype": "text/x-python",
   "name": "python",
   "nbconvert_exporter": "python",
   "pygments_lexer": "ipython3",
   "version": "3.8.0"
  }
 },
 "nbformat": 4,
 "nbformat_minor": 2
}
